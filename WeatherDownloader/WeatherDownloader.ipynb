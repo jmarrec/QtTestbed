{
 "cells": [
  {
   "cell_type": "code",
   "execution_count": null,
   "id": "63971d1b-9254-4dfa-8afb-0d4a82874111",
   "metadata": {},
   "outputs": [],
   "source": [
    "from pathlib import Path\n",
    "import json\n",
    "import re\n",
    "\n",
    "import requests\n",
    "import geopandas as gpd\n",
    "import pandas as pd\n",
    "import pycountry"
   ]
  },
  {
   "cell_type": "code",
   "execution_count": null,
   "id": "f16d6f35-7377-47a5-b9d8-fc151a07731d",
   "metadata": {},
   "outputs": [],
   "source": [
    "GEOJSON_URL = \"https://github.com/NREL/EnergyPlus/raw/develop/weather/master.geojson\""
   ]
  },
  {
   "cell_type": "code",
   "execution_count": null,
   "id": "264cfb04-eb1e-46cb-a893-a3e05bc1f0b3",
   "metadata": {},
   "outputs": [],
   "source": [
    "r = requests.get(GEOJSON_URL)\n",
    "r.raise_for_status()\n",
    "\n",
    "data = r.json()"
   ]
  },
  {
   "cell_type": "code",
   "execution_count": null,
   "id": "4313f2e4-caa3-4bc1-8b46-4add08e0f8ce",
   "metadata": {},
   "outputs": [],
   "source": [
    "PROCESS_LINK_KEYS = ['epw', 'ddy', 'stat', 'all', 'dir']"
   ]
  },
  {
   "cell_type": "code",
   "execution_count": null,
   "id": "e567b7eb-873c-479b-bea4-cd9ff667804f",
   "metadata": {},
   "outputs": [],
   "source": [
    "for feature in data[\"features\"]:\n",
    "    for k in PROCESS_LINK_KEYS:\n",
    "        if k in feature[\"properties\"]:\n",
    "            feature[\"properties\"][k] = feature[\"properties\"][k].split(\"href=\")[1].split(\">\")[0]"
   ]
  },
  {
   "cell_type": "code",
   "execution_count": null,
   "id": "8242355c",
   "metadata": {},
   "outputs": [],
   "source": [
    "with open('eplus_processed_master.geojson', 'w') as f:\n",
    "    json.dump(data, fp=f, indent=4)"
   ]
  },
  {
   "cell_type": "code",
   "execution_count": null,
   "id": "80104d22",
   "metadata": {},
   "outputs": [],
   "source": [
    "df_geo = gpd.read_file('eplus_processed_master.geojson')\n",
    "df_geo.shape"
   ]
  },
  {
   "cell_type": "code",
   "execution_count": null,
   "id": "fa0320ff",
   "metadata": {},
   "outputs": [],
   "source": [
    "df_geo.crs"
   ]
  },
  {
   "cell_type": "code",
   "execution_count": null,
   "id": "36d4e43e-c4a4-4e53-990f-a62937d6a1a2",
   "metadata": {},
   "outputs": [],
   "source": [
    "df_geo.columns"
   ]
  },
  {
   "cell_type": "code",
   "execution_count": null,
   "id": "0696a172-68a3-4e01-978d-2b7f17520012",
   "metadata": {},
   "outputs": [],
   "source": [
    "type(data[\"features\"])"
   ]
  },
  {
   "cell_type": "code",
   "execution_count": null,
   "id": "846f286e-879e-41a0-9729-d965de186737",
   "metadata": {},
   "outputs": [],
   "source": [
    "feature = data[\"features\"][0]\n",
    "feature.keys()"
   ]
  },
  {
   "cell_type": "code",
   "execution_count": null,
   "id": "48b29ccc-550c-4795-8877-2e8743d3f4e5",
   "metadata": {},
   "outputs": [],
   "source": [
    "feature['type']"
   ]
  },
  {
   "cell_type": "code",
   "execution_count": null,
   "id": "e2b9ce59-35e2-4afa-a6b6-281aaa755573",
   "metadata": {},
   "outputs": [],
   "source": [
    "feature[\"geometry\"]"
   ]
  },
  {
   "cell_type": "code",
   "execution_count": null,
   "id": "1127c604-cb59-4990-b174-194fb04b2b81",
   "metadata": {},
   "outputs": [],
   "source": [
    "feature[\"properties\"].keys()"
   ]
  },
  {
   "cell_type": "code",
   "execution_count": null,
   "id": "7e50f70e-9bce-4c05-a96a-452b1d22ff66",
   "metadata": {},
   "outputs": [],
   "source": [
    "feature"
   ]
  },
  {
   "cell_type": "code",
   "execution_count": null,
   "id": "6eeac025-5eab-4172-b531-3fbfa0a8498b",
   "metadata": {},
   "outputs": [],
   "source": [
    "df_geo = gpd.read_file(GEOJSON_URL)"
   ]
  },
  {
   "cell_type": "code",
   "execution_count": null,
   "id": "91d660cf-0453-473f-a2bf-94f93f37aaf0",
   "metadata": {},
   "outputs": [],
   "source": [
    "def process_link(link):\n",
    "    return link.split(\"href=\")[1].split(\">\")[0]"
   ]
  },
  {
   "cell_type": "code",
   "execution_count": null,
   "id": "4f85325d-6af1-49f4-9abb-fe3e3e90172b",
   "metadata": {},
   "outputs": [],
   "source": [
    "for k in PROCESS_LINK_KEYS:\n",
    "    df_geo[k] = df_geo[k].apply(process_link)"
   ]
  },
  {
   "cell_type": "code",
   "execution_count": null,
   "id": "359a5905-bce8-4353-9210-827eee1a471b",
   "metadata": {},
   "outputs": [],
   "source": [
    "print(\"\\n\".join(df_geo['title'].values[:10]))"
   ]
  },
  {
   "cell_type": "code",
   "execution_count": null,
   "id": "1705da2a-2d0d-4b0d-bc5a-daf42e73eda2",
   "metadata": {},
   "outputs": [],
   "source": [
    "title = 'DZA_Algiers.603900_IWEC'"
   ]
  },
  {
   "cell_type": "code",
   "execution_count": null,
   "id": "a7249bc3-88f3-471c-a8cc-31c173ccf2e3",
   "metadata": {},
   "outputs": [],
   "source": [
    "RE_TITLE = re.compile(r'(?P<country_code>[a-zA-Z]{3})_(?P<city>.*)\\.(?P<wmo>\\d{6})_(?P<type>\\w+)')"
   ]
  },
  {
   "cell_type": "code",
   "execution_count": null,
   "id": "c82c7bf3-d2e3-4933-a202-b049f14cf0b2",
   "metadata": {},
   "outputs": [],
   "source": [
    "for title in df_geo['title']:\n",
    "    if (m := RE_TITLE.match(title)):\n",
    "        pass\n",
    "    else:\n",
    "        print(title)"
   ]
  },
  {
   "cell_type": "code",
   "execution_count": null,
   "id": "1a2174e0-b6ea-4e9d-b581-3731c9eb5c91",
   "metadata": {},
   "outputs": [],
   "source": [
    "df_geo[['country_code', 'city', 'wmo', 'type']] = df_geo['title'].str.extract(RE_TITLE)"
   ]
  },
  {
   "cell_type": "code",
   "execution_count": null,
   "id": "6bb5771a-f9c6-47fc-abe9-cabf53d4d8d2",
   "metadata": {},
   "outputs": [],
   "source": [
    "pycountry.countries.get(alpha_3='DZA')"
   ]
  },
  {
   "cell_type": "code",
   "execution_count": null,
   "id": "d73a9b4c-f796-4bec-a6ea-a54e56d610b9",
   "metadata": {},
   "outputs": [],
   "source": [
    "usa = pycountry.countries.get(alpha_3='USA')"
   ]
  },
  {
   "cell_type": "code",
   "execution_count": null,
   "id": "acf903d7-1eae-48de-beeb-1b33ea236fd7",
   "metadata": {},
   "outputs": [],
   "source": [
    "usa.flag"
   ]
  },
  {
   "cell_type": "code",
   "execution_count": null,
   "id": "4445c5af-3f94-4bf1-b802-3e4051a7b025",
   "metadata": {},
   "outputs": [],
   "source": [
    "pycountry.countries.lookup('allemagne')"
   ]
  },
  {
   "cell_type": "code",
   "execution_count": null,
   "id": "04d248a6-a7ec-433e-9790-2243fb52fd32",
   "metadata": {},
   "outputs": [],
   "source": [
    "pycountry.countries.search_fuzzy('Germ')"
   ]
  },
  {
   "cell_type": "code",
   "execution_count": null,
   "id": "bf16d1a7-f8de-41c8-8d4a-23a51283462e",
   "metadata": {},
   "outputs": [],
   "source": [
    "df_geo.plot()"
   ]
  },
  {
   "cell_type": "markdown",
   "id": "802d0216-a4ec-43d7-bb88-97a27bb156ed",
   "metadata": {},
   "source": [
    "# Dump pycountry database to a usable one?"
   ]
  },
  {
   "cell_type": "code",
   "execution_count": null,
   "id": "bef175fb-2df3-4ff1-98c2-5b380eb1cb8e",
   "metadata": {},
   "outputs": [],
   "source": [
    "list(pycountry.countries)"
   ]
  },
  {
   "cell_type": "code",
   "execution_count": null,
   "id": "49f8d93f",
   "metadata": {},
   "outputs": [],
   "source": [
    "# Can just download this one:\n",
    "!wget https://raw.githubusercontent.com/flyingcircusio/pycountry/main/src/pycountry/databases/iso3166-1.json"
   ]
  },
  {
   "cell_type": "markdown",
   "id": "d43fb3f5",
   "metadata": {},
   "source": [
    "# climate.onebuilding"
   ]
  },
  {
   "cell_type": "code",
   "execution_count": null,
   "id": "dc6e6567",
   "metadata": {},
   "outputs": [],
   "source": [
    "from lxml import etree, html"
   ]
  },
  {
   "cell_type": "code",
   "execution_count": null,
   "id": "e0244410",
   "metadata": {},
   "outputs": [],
   "source": [
    "KML_DIR = Path('kmls')\n",
    "\n",
    "kml_links = [x for x in \"\"\"\n",
    "https://climate.onebuilding.org/WMO_Region_1_Africa/Region1_Africa_EPW_Processing_locations.kml\n",
    "https://climate.onebuilding.org/WMO_Region_2_Asia/Region2_Asia_EPW_Processing_locations.kml\n",
    "https://climate.onebuilding.org/WMO_Region_2_Asia/Region2_Region6_Russia_EPW_Processing_locations.kml\n",
    "https://climate.onebuilding.org/WMO_Region_3_South_America/Region3_South_America_EPW_Processing_locations.kml\n",
    "\n",
    "https://climate.onebuilding.org/WMO_Region_4_North_and_Central_America/Region4_Canada_EPW_Processing_locations.kml\n",
    "https://climate.onebuilding.org/WMO_Region_4_North_and_Central_America/Region4_USA_EPW_Processing_locations.kml\n",
    "https://climate.onebuilding.org/WMO_Region_4_North_and_Central_America/Region4_NA_CA_Caribbean_EPW_Processing_locations.kml\n",
    "\n",
    "https://climate.onebuilding.org/WMO_Region_5_Southwest_Pacific/Region5_Southwest_Pacific_EPW_Processing_locations.kml\n",
    "https://climate.onebuilding.org/WMO_Region_6_Europe/Region6_Europe_EPW_Processing_locations.kml\n",
    "https://climate.onebuilding.org/WMO_Region_7_Antarctica/Region7_Antarctica_EPW_Processing_locations.kml\n",
    "\"\"\".split() if x.strip()]"
   ]
  },
  {
   "cell_type": "code",
   "execution_count": null,
   "id": "f90d9c0f",
   "metadata": {},
   "outputs": [],
   "source": [
    "import urllib.request \n",
    "\n",
    "for kml_link in kml_links:\n",
    "    outpath = KML_DIR / kml_link.split('/')[-1]\n",
    "    if not outpath.is_file():\n",
    "        print(f\"Downloading {kml_link}\")\n",
    "        urllib.request.urlretrieve(kml_link, outpath)"
   ]
  },
  {
   "cell_type": "code",
   "execution_count": null,
   "id": "32bb5b46",
   "metadata": {},
   "outputs": [],
   "source": [
    "# !npm install -g @mapbox/togeojson\n",
    "# !togeojson Region6_Europe_EPW_Processing_locations.kml > Region6_Europe_EPW_Processing_locations.geojson"
   ]
  },
  {
   "cell_type": "code",
   "execution_count": null,
   "id": "f4b64073",
   "metadata": {},
   "outputs": [],
   "source": [
    "RE_NCEI_ISD_ERA = re.compile(r'(?P<source_type>.*) - #years=\\[(?P<source_years>\\d+)\\] Period of Record=(?P<source_period>.*)')\n",
    "\n",
    "def parse_description_text(description_text: str):\n",
    "    # table = etree.HTML(description_text).find(\"body/table\")\n",
    "    table = html.fromstring(description_text)\n",
    "    info = {}\n",
    "    assert table is not None\n",
    "    if len(table) not in [11, 12, 13]:\n",
    "        raise ValueError(f\"len is {len(table)}\")\n",
    "    for i, row in enumerate(table):\n",
    "        tds = row.findall('td')\n",
    "        assert len(tds) == 1\n",
    "        #print(etree.tostring(row, pretty_print=True).decode())\n",
    "        td = tds[0]\n",
    "        if i == 0:\n",
    "            assert(td.attrib['colspan'] == '2')\n",
    "            info['epw_name'] = td.text_content()\n",
    "            continue\n",
    "        # b = td.find('b')\n",
    "        # if b is not None:\n",
    "        #     td = b\n",
    "        text = td.text_content().strip()\n",
    "        if text.startswith('Data Source'):\n",
    "            info['Data Source'] = text[12:]\n",
    "            continue\n",
    "        if text.startswith('ERA5') or text.startswith('NCEI') or text.startswith('NSRDB'):\n",
    "            m = RE_NCEI_ISD_ERA.match(text)\n",
    "            assert m is not None, text\n",
    "            info.update(RE_NCEI_ISD_ERA.match(text).groupdict())\n",
    "            continue\n",
    "        if text.startswith('WMO'):\n",
    "            info['WMO'] = text[4:]\n",
    "            continue\n",
    "        if '°' in text:\n",
    "            splitted = [x.strip() for x in text.split('  ')]\n",
    "            assert len(splitted) == 2, f\"'{text}'\"\n",
    "            lat_degrees, lon_degrees = splitted\n",
    "            info['latitude_degrees'] = lat_degrees\n",
    "            info['longitude_degrees'] = lon_degrees\n",
    "            continue\n",
    "        if text.startswith('Elevation'):\n",
    "            info['Elevation'] = text[10:]\n",
    "            continue\n",
    "        if text.startswith('Time Zone'):\n",
    "            info['Time Zone'] = text.split('{')[1].split('}')[0]\n",
    "            continue\n",
    "        if text.startswith('Design conditions'):\n",
    "            info['Design conditions'] = text[18:]\n",
    "            continue\n",
    "        if text.startswith('99% Heating DB'):\n",
    "            info['99% Heating DB'] = text[15:]\n",
    "            continue\n",
    "        if text.startswith('1% Cooling DB'):\n",
    "            info['1% Cooling DB'] = text[14:]\n",
    "            continue\n",
    "        if text.startswith('HDD'):\n",
    "            hdd, cdd = [x.strip() for x in 'HDD18 3705, CDD10 711'.split(',')]\n",
    "            khdd, vhdd = hdd.split(' ')\n",
    "            assert khdd == 'HDD18'\n",
    "            info[khdd] = float(vhdd)\n",
    "            kcdd, vcdd = cdd.split(' ')\n",
    "            assert kcdd == 'CDD10'\n",
    "            info[kcdd] = float(vcdd)\n",
    "            continue\n",
    "        if text.startswith('URL'):\n",
    "            info['URL'] = text[4:]\n",
    "            continue\n",
    "        if text.startswith('ASHRAE HOF 2021 Climate Zone'):\n",
    "            info['Climate Zone Standard'] = \"ASHRAE HOF 2021 \"\n",
    "            info['Climate Zone'] = text[29:]\n",
    "            continue\n",
    "        if text.startswith('ASHRAE HOF 2017 Climate Zone'):\n",
    "            info['Climate Zone Standard'] = \"ASHRAE HOF 2017 \"\n",
    "            info['Climate Zone'] = text[29:]\n",
    "            continue\n",
    "        assert False, text\n",
    "        \n",
    "    return info"
   ]
  },
  {
   "cell_type": "code",
   "execution_count": null,
   "id": "2ea491f2",
   "metadata": {},
   "outputs": [],
   "source": [
    "RE_KML_NAME = re.compile(r'Region(?P<RegionNumber>\\d)_(?P<RegionName>.*)_EPW_Processing_locations.kml')\n",
    "def process_kml_file(kml_path: Path):\n",
    "    tree = etree.parse(kml_path)\n",
    "    root = tree.getroot()\n",
    "    # document = root.getchildren()[0]\n",
    "    ns = root.nsmap[None]\n",
    "    namespaces={'k': ns}\n",
    "\n",
    "    region_m = RE_KML_NAME.match(kml_path.name)\n",
    "    assert region_m is not None\n",
    "    region_dict = region_m.groupdict()\n",
    "    \n",
    "    all_infos = []\n",
    "    for placemark in root.xpath(f'.//k:Placemark', namespaces=namespaces):\n",
    "        #name = placemark.find('k:name', namespaces=namespaces)\n",
    "        name = placemark.find('k:name', namespaces=namespaces)\n",
    "        assert name is not None\n",
    "        name = name.text\n",
    "        desc = placemark.find('k:description', namespaces=namespaces)\n",
    "        if desc is None:\n",
    "            print(f\"Skipping no description: text='{placemark.text.strip()}' {name=}\")\n",
    "            continue\n",
    "\n",
    "        styleUrl = placemark.find('k:styleUrl', namespaces=namespaces)\n",
    "        point = placemark.find('k:Point', namespaces=namespaces)\n",
    "        assert styleUrl.text == \"#weatherlocation\"\n",
    "        assert point is not None\n",
    "        altitudeMode = point.find('k:altitudeMode', namespaces=namespaces)\n",
    "        assert altitudeMode.text == 'absolute'\n",
    "        coordinates = point.find('k:coordinates', namespaces=namespaces)\n",
    "        coords = coordinates.text.split(',')\n",
    "        assert len(coords) == 3\n",
    "        (longitude, latitude, altitude) = [float(x) for x in coords]\n",
    "        try:\n",
    "            parse_description_text(desc.text)\n",
    "        except:\n",
    "            raise ValueError(f\"Skipping not 12: text='{placemark.text.strip()}' {name=}\")\n",
    "\n",
    "        d = dict(\n",
    "            {\n",
    "                'name': name,\n",
    "                'latitude': latitude,\n",
    "                'longitude': longitude,\n",
    "                'altitude': altitude\n",
    "            },\n",
    "            **parse_description_text(description_text=desc.text),\n",
    "            **region_dict,\n",
    "        )\n",
    "        all_infos.append(d)\n",
    "\n",
    "    return all_infos"
   ]
  },
  {
   "cell_type": "code",
   "execution_count": null,
   "id": "a413a8bf",
   "metadata": {},
   "outputs": [],
   "source": [
    "kml_paths = sorted(list(KML_DIR.glob('*.kml')))\n",
    "kml_paths"
   ]
  },
  {
   "cell_type": "code",
   "execution_count": null,
   "id": "31ecd58e",
   "metadata": {},
   "outputs": [],
   "source": [
    "all_infos = []\n",
    "for kml_path in kml_paths:\n",
    "    print(f\"Processing {kml_path}\")\n",
    "    all_infos += process_kml_file(kml_path=kml_path)\n",
    "    print(f\"\\n\\nDone Processing {kml_path}\\n\")"
   ]
  },
  {
   "cell_type": "code",
   "execution_count": null,
   "id": "1262d0f0",
   "metadata": {},
   "outputs": [],
   "source": [
    "len(all_infos)"
   ]
  },
  {
   "cell_type": "code",
   "execution_count": null,
   "id": "8a412a62",
   "metadata": {},
   "outputs": [],
   "source": [
    "df = pd.DataFrame(all_infos)"
   ]
  },
  {
   "cell_type": "code",
   "execution_count": null,
   "id": "b1b06e58",
   "metadata": {},
   "outputs": [],
   "source": [
    "gdf = gpd.GeoDataFrame(\n",
    "    df, geometry=gpd.points_from_xy(x=df['longitude'], y=df['latitude'], z=df['altitude']), crs=\"EPSG:4326\"\n",
    ")"
   ]
  },
  {
   "cell_type": "code",
   "execution_count": null,
   "id": "e6e1071f",
   "metadata": {},
   "outputs": [],
   "source": [
    "gdf.to_file('onebuilding.geojson')"
   ]
  },
  {
   "cell_type": "code",
   "execution_count": null,
   "id": "18e63e14",
   "metadata": {},
   "outputs": [],
   "source": [
    "with open('onebuilding.geojson', 'r') as f:\n",
    "    data = json.load(f)\n",
    "with open('onebuilding_pretty.geojson', 'w') as f:\n",
    "    json.dump(data, fp=f, indent=4)"
   ]
  },
  {
   "cell_type": "code",
   "execution_count": null,
   "id": "705f4641",
   "metadata": {},
   "outputs": [],
   "source": [
    "df_geo.columns"
   ]
  },
  {
   "cell_type": "code",
   "execution_count": null,
   "id": "72c85fa6",
   "metadata": {},
   "outputs": [],
   "source": [
    "gdf[['name',\n",
    " 'epw_name',\n",
    " 'geometry']].to_file('onebuilding_short.geojson')"
   ]
  },
  {
   "cell_type": "markdown",
   "id": "45fafe6a-e44c-43ac-b56d-4e182b0da5f0",
   "metadata": {},
   "source": [
    "# Find closest weater stations"
   ]
  },
  {
   "cell_type": "code",
   "execution_count": null,
   "id": "2f182588-952b-4f75-bd9c-80fbc2ecfb31",
   "metadata": {},
   "outputs": [],
   "source": [
    "p = Path(\"~/Software/Others/OS-build-release/Products/python\").expanduser()\n",
    "import sys\n",
    "sys.path.insert(0, str(p))\n",
    "import openstudio"
   ]
  },
  {
   "cell_type": "code",
   "execution_count": null,
   "id": "9542ed9b-b762-4173-9be4-b76b550eff69",
   "metadata": {},
   "outputs": [],
   "source": [
    "# Lorient, France\n",
    "latitude, longitude = (47.73665335117919, -3.368750001289318)"
   ]
  },
  {
   "cell_type": "markdown",
   "id": "b815e37b",
   "metadata": {},
   "source": [
    "## E+ database"
   ]
  },
  {
   "cell_type": "code",
   "execution_count": null,
   "id": "8830b4ed-8af7-4a79-8783-bc7d8ffa8718",
   "metadata": {},
   "outputs": [],
   "source": [
    "distances = df_geo['geometry'].apply(lambda p: openstudio.getDistanceLatLon(lat1=latitude, lon1=longitude, lat2=p.y, lon2=p.x)) / 1000.0\n",
    "distances.name = 'distance_km'"
   ]
  },
  {
   "cell_type": "code",
   "execution_count": null,
   "id": "e6c8b764-3f23-4a3d-8e14-c1c7c512f042",
   "metadata": {},
   "outputs": [],
   "source": [
    "distances.min()"
   ]
  },
  {
   "cell_type": "code",
   "execution_count": null,
   "id": "b55287c5-1312-48f1-9086-27ccddcc5698",
   "metadata": {},
   "outputs": [],
   "source": [
    "df_geo.merge(distances.sort_values(ascending=True).iloc[:5], left_index=True, right_index=True).sort_values(by='distance_km', ascending=True)"
   ]
  },
  {
   "cell_type": "markdown",
   "id": "2199755e",
   "metadata": {},
   "source": [
    "## Onebuilding"
   ]
  },
  {
   "cell_type": "code",
   "execution_count": null,
   "id": "ea15c424",
   "metadata": {},
   "outputs": [],
   "source": [
    "distances = gdf['geometry'].apply(lambda p: openstudio.getDistanceLatLon(lat1=latitude, lon1=longitude, lat2=p.y, lon2=p.x)) / 1000.0\n",
    "distances.name = 'distance_km'\n",
    "gdf.merge(distances.sort_values(ascending=True).iloc[:5], \n",
    "             left_index=True, right_index=True).sort_values(by='distance_km', ascending=True)"
   ]
  }
 ],
 "metadata": {
  "kernelspec": {
   "display_name": "Python 3 (ipykernel)",
   "language": "python",
   "name": "python3"
  },
  "language_info": {
   "codemirror_mode": {
    "name": "ipython",
    "version": 3
   },
   "file_extension": ".py",
   "mimetype": "text/x-python",
   "name": "python",
   "nbconvert_exporter": "python",
   "pygments_lexer": "ipython3",
   "version": "3.8.13"
  },
  "toc": {
   "base_numbering": 1,
   "nav_menu": {},
   "number_sections": true,
   "sideBar": true,
   "skip_h1_title": false,
   "title_cell": "Table of Contents",
   "title_sidebar": "Contents",
   "toc_cell": false,
   "toc_position": {},
   "toc_section_display": true,
   "toc_window_display": false
  }
 },
 "nbformat": 4,
 "nbformat_minor": 5
}
